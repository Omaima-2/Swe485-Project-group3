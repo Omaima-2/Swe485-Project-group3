{
 "cells": [
  {
   "cell_type": "markdown",
   "id": "2300fbb8-b9ca-4c64-a70b-c1101db56226",
   "metadata": {},
   "source": [
    "# **The Goal:** \n",
    "The goal of this project is to develop a machine learning-based diet recommendation system that provides personalized meal plans by analyzing key health-related inputs. Instead of analyzing full dietary patterns, the system focuses on essential factors that directly influence nutrition.\n",
    "\n",
    "Specifically, this project aims to:\n",
    " 1. Classify users into suitable diet categories based on their age, BMI, calorie needs, gender, health condition, and activity level.\n",
    " 2. Provide personalized diet recommendations that align with each user’s health status and nutritional needs.\n",
    " 3. Improve accessibility to dietary guidance through an AI-driven system that simplifies the meal planning process.\n",
    " 4. Promote healthier eating habits by offering practical and customized nutritional advice.\n",
    "\n",
    "By utilizing machine learning, this system ensures that users receive accurate and relevant diet suggestions without requiring extensive dietary history analysis.\n",
    "# **The source of the dataset:** \n",
    "https://www.kaggle.com/datasets/ziya07/diet-recommendations-dataset"
   ]
  },
  {
   "cell_type": "code",
   "execution_count": 2,
   "id": "c2246c66-1156-4e37-bd25-e44cd05945c4",
   "metadata": {},
   "outputs": [],
   "source": [
    "import pandas as pd\n",
    "import numpy as np\n",
    "import matplotlib.pyplot as plt\n",
    "import seaborn as sns\n",
    "from sklearn.model_selection import train_test_split\n",
    "from sklearn.preprocessing import StandardScaler, OrdinalEncoder, LabelEncoder\n",
    "from sklearn.impute import SimpleImputer"
   ]
  },
  {
   "cell_type": "code",
   "execution_count": 3,
   "id": "db900ac1-c98e-4763-bde1-3d6ebb0fbdbd",
   "metadata": {},
   "outputs": [],
   "source": [
    "# Load the dataset\n",
    "dataset = pd.read_csv('diet_recommendations_dataset.csv')"
   ]
  },
  {
   "cell_type": "markdown",
   "id": "5d6d38b9-9cd6-497e-83b3-3bd208dfc58c",
   "metadata": {},
   "source": [
    "# **General information:**\n"
   ]
  },
  {
   "cell_type": "code",
   "execution_count": 4,
   "id": "d66173d2-0800-4eab-a9d0-e9c66b850cf8",
   "metadata": {},
   "outputs": [
    {
     "name": "stdout",
     "output_type": "stream",
     "text": [
      "<class 'pandas.core.frame.DataFrame'>\n",
      "RangeIndex: 1000 entries, 0 to 999\n",
      "Data columns (total 20 columns):\n",
      " #   Column                            Non-Null Count  Dtype  \n",
      "---  ------                            --------------  -----  \n",
      " 0   Patient_ID                        1000 non-null   object \n",
      " 1   Age                               1000 non-null   int64  \n",
      " 2   Gender                            1000 non-null   object \n",
      " 3   Weight_kg                         1000 non-null   float64\n",
      " 4   Height_cm                         1000 non-null   int64  \n",
      " 5   BMI                               1000 non-null   float64\n",
      " 6   Disease_Type                      796 non-null    object \n",
      " 7   Severity                          1000 non-null   object \n",
      " 8   Physical_Activity_Level           1000 non-null   object \n",
      " 9   Daily_Caloric_Intake              1000 non-null   int64  \n",
      " 10  Cholesterol_mg/dL                 1000 non-null   float64\n",
      " 11  Blood_Pressure_mmHg               1000 non-null   int64  \n",
      " 12  Glucose_mg/dL                     1000 non-null   float64\n",
      " 13  Dietary_Restrictions              666 non-null    object \n",
      " 14  Allergies                         677 non-null    object \n",
      " 15  Preferred_Cuisine                 1000 non-null   object \n",
      " 16  Weekly_Exercise_Hours             1000 non-null   float64\n",
      " 17  Adherence_to_Diet_Plan            1000 non-null   float64\n",
      " 18  Dietary_Nutrient_Imbalance_Score  1000 non-null   float64\n",
      " 19  Diet_Recommendation               1000 non-null   object \n",
      "dtypes: float64(7), int64(4), object(9)\n",
      "memory usage: 156.4+ KB\n",
      "Number of Rows: 1000\n",
      "Number of Columns: 20\n",
      "\n",
      "Column Data Types:\n",
      "Patient_ID                           object\n",
      "Age                                   int64\n",
      "Gender                               object\n",
      "Weight_kg                           float64\n",
      "Height_cm                             int64\n",
      "BMI                                 float64\n",
      "Disease_Type                         object\n",
      "Severity                             object\n",
      "Physical_Activity_Level              object\n",
      "Daily_Caloric_Intake                  int64\n",
      "Cholesterol_mg/dL                   float64\n",
      "Blood_Pressure_mmHg                   int64\n",
      "Glucose_mg/dL                       float64\n",
      "Dietary_Restrictions                 object\n",
      "Allergies                            object\n",
      "Preferred_Cuisine                    object\n",
      "Weekly_Exercise_Hours               float64\n",
      "Adherence_to_Diet_Plan              float64\n",
      "Dietary_Nutrient_Imbalance_Score    float64\n",
      "Diet_Recommendation                  object\n",
      "dtype: object\n"
     ]
    }
   ],
   "source": [
    "num_rows, num_columns = dataset.shape\n",
    "data_types = dataset.dtypes\n",
    "summary_info = dataset.info()\n",
    "\n",
    "# Display extracted information\n",
    "print(f\"Number of Rows: {num_rows}\")\n",
    "print(f\"Number of Columns: {num_columns}\")\n",
    "print(\"\\nColumn Data Types:\")\n",
    "print(data_types)"
   ]
  },
  {
   "cell_type": "code",
   "execution_count": 5,
   "id": "fef4a38e-5116-4500-ae85-946873e52738",
   "metadata": {},
   "outputs": [
    {
     "name": "stdout",
     "output_type": "stream",
     "text": [
      "Classes: ['Balanced' 'Low_Carb' 'Low_Sodium']\n",
      "Class distribution:\n",
      " Diet_Recommendation\n",
      "Balanced      426\n",
      "Low_Sodium    316\n",
      "Low_Carb      258\n",
      "Name: count, dtype: int64\n"
     ]
    }
   ],
   "source": [
    "print(\"Classes:\", dataset[\"Diet_Recommendation\"].unique()) # Display unique diet recommendations (classes)\n",
    "\n",
    "print(\"Class distribution:\\n\", dataset[\"Diet_Recommendation\"].value_counts()) # Display the count of each class"
   ]
  },
  {
   "cell_type": "markdown",
   "id": "6bb74a80-6543-4675-9eab-2a0d00e342db",
   "metadata": {},
   "source": [
    "# **Summary of the dataset:**"
   ]
  },
  {
   "cell_type": "code",
   "execution_count": 6,
   "id": "46fe51b2-65a7-4bea-b0f2-6ae78dcd1b79",
   "metadata": {},
   "outputs": [
    {
     "data": {
      "text/html": [
       "<div>\n",
       "<style scoped>\n",
       "    .dataframe tbody tr th:only-of-type {\n",
       "        vertical-align: middle;\n",
       "    }\n",
       "\n",
       "    .dataframe tbody tr th {\n",
       "        vertical-align: top;\n",
       "    }\n",
       "\n",
       "    .dataframe thead th {\n",
       "        text-align: right;\n",
       "    }\n",
       "</style>\n",
       "<table border=\"1\" class=\"dataframe\">\n",
       "  <thead>\n",
       "    <tr style=\"text-align: right;\">\n",
       "      <th></th>\n",
       "      <th>Patient_ID</th>\n",
       "      <th>Age</th>\n",
       "      <th>Gender</th>\n",
       "      <th>Weight_kg</th>\n",
       "      <th>Height_cm</th>\n",
       "      <th>BMI</th>\n",
       "      <th>Disease_Type</th>\n",
       "      <th>Severity</th>\n",
       "      <th>Physical_Activity_Level</th>\n",
       "      <th>Daily_Caloric_Intake</th>\n",
       "      <th>Cholesterol_mg/dL</th>\n",
       "      <th>Blood_Pressure_mmHg</th>\n",
       "      <th>Glucose_mg/dL</th>\n",
       "      <th>Dietary_Restrictions</th>\n",
       "      <th>Allergies</th>\n",
       "      <th>Preferred_Cuisine</th>\n",
       "      <th>Weekly_Exercise_Hours</th>\n",
       "      <th>Adherence_to_Diet_Plan</th>\n",
       "      <th>Dietary_Nutrient_Imbalance_Score</th>\n",
       "      <th>Diet_Recommendation</th>\n",
       "    </tr>\n",
       "  </thead>\n",
       "  <tbody>\n",
       "    <tr>\n",
       "      <th>0</th>\n",
       "      <td>P0001</td>\n",
       "      <td>56</td>\n",
       "      <td>Male</td>\n",
       "      <td>58.4</td>\n",
       "      <td>160</td>\n",
       "      <td>22.8</td>\n",
       "      <td>Obesity</td>\n",
       "      <td>Moderate</td>\n",
       "      <td>Moderate</td>\n",
       "      <td>3079</td>\n",
       "      <td>173.3</td>\n",
       "      <td>133</td>\n",
       "      <td>116.3</td>\n",
       "      <td>NaN</td>\n",
       "      <td>Peanuts</td>\n",
       "      <td>Mexican</td>\n",
       "      <td>3.1</td>\n",
       "      <td>96.6</td>\n",
       "      <td>3.1</td>\n",
       "      <td>Balanced</td>\n",
       "    </tr>\n",
       "    <tr>\n",
       "      <th>1</th>\n",
       "      <td>P0002</td>\n",
       "      <td>69</td>\n",
       "      <td>Male</td>\n",
       "      <td>101.2</td>\n",
       "      <td>169</td>\n",
       "      <td>35.4</td>\n",
       "      <td>Diabetes</td>\n",
       "      <td>Mild</td>\n",
       "      <td>Moderate</td>\n",
       "      <td>3032</td>\n",
       "      <td>199.2</td>\n",
       "      <td>120</td>\n",
       "      <td>137.1</td>\n",
       "      <td>NaN</td>\n",
       "      <td>Peanuts</td>\n",
       "      <td>Chinese</td>\n",
       "      <td>4.5</td>\n",
       "      <td>63.2</td>\n",
       "      <td>0.6</td>\n",
       "      <td>Low_Carb</td>\n",
       "    </tr>\n",
       "    <tr>\n",
       "      <th>2</th>\n",
       "      <td>P0003</td>\n",
       "      <td>46</td>\n",
       "      <td>Female</td>\n",
       "      <td>63.5</td>\n",
       "      <td>173</td>\n",
       "      <td>21.2</td>\n",
       "      <td>Hypertension</td>\n",
       "      <td>Mild</td>\n",
       "      <td>Sedentary</td>\n",
       "      <td>1737</td>\n",
       "      <td>181.0</td>\n",
       "      <td>121</td>\n",
       "      <td>109.6</td>\n",
       "      <td>NaN</td>\n",
       "      <td>Peanuts</td>\n",
       "      <td>Chinese</td>\n",
       "      <td>3.8</td>\n",
       "      <td>57.5</td>\n",
       "      <td>4.6</td>\n",
       "      <td>Low_Sodium</td>\n",
       "    </tr>\n",
       "    <tr>\n",
       "      <th>3</th>\n",
       "      <td>P0004</td>\n",
       "      <td>32</td>\n",
       "      <td>Male</td>\n",
       "      <td>58.1</td>\n",
       "      <td>164</td>\n",
       "      <td>21.6</td>\n",
       "      <td>NaN</td>\n",
       "      <td>Mild</td>\n",
       "      <td>Moderate</td>\n",
       "      <td>2657</td>\n",
       "      <td>168.2</td>\n",
       "      <td>144</td>\n",
       "      <td>159.4</td>\n",
       "      <td>NaN</td>\n",
       "      <td>NaN</td>\n",
       "      <td>Mexican</td>\n",
       "      <td>4.3</td>\n",
       "      <td>54.5</td>\n",
       "      <td>0.4</td>\n",
       "      <td>Balanced</td>\n",
       "    </tr>\n",
       "    <tr>\n",
       "      <th>4</th>\n",
       "      <td>P0005</td>\n",
       "      <td>60</td>\n",
       "      <td>Male</td>\n",
       "      <td>79.5</td>\n",
       "      <td>197</td>\n",
       "      <td>20.5</td>\n",
       "      <td>Diabetes</td>\n",
       "      <td>Moderate</td>\n",
       "      <td>Sedentary</td>\n",
       "      <td>3496</td>\n",
       "      <td>200.4</td>\n",
       "      <td>172</td>\n",
       "      <td>182.3</td>\n",
       "      <td>Low_Sugar</td>\n",
       "      <td>NaN</td>\n",
       "      <td>Italian</td>\n",
       "      <td>9.8</td>\n",
       "      <td>78.2</td>\n",
       "      <td>4.7</td>\n",
       "      <td>Low_Carb</td>\n",
       "    </tr>\n",
       "    <tr>\n",
       "      <th>5</th>\n",
       "      <td>P0006</td>\n",
       "      <td>25</td>\n",
       "      <td>Female</td>\n",
       "      <td>105.7</td>\n",
       "      <td>156</td>\n",
       "      <td>43.4</td>\n",
       "      <td>Obesity</td>\n",
       "      <td>Severe</td>\n",
       "      <td>Active</td>\n",
       "      <td>2715</td>\n",
       "      <td>182.3</td>\n",
       "      <td>177</td>\n",
       "      <td>108.9</td>\n",
       "      <td>NaN</td>\n",
       "      <td>Gluten</td>\n",
       "      <td>Indian</td>\n",
       "      <td>0.9</td>\n",
       "      <td>55.7</td>\n",
       "      <td>3.5</td>\n",
       "      <td>Balanced</td>\n",
       "    </tr>\n",
       "    <tr>\n",
       "      <th>6</th>\n",
       "      <td>P0007</td>\n",
       "      <td>78</td>\n",
       "      <td>Male</td>\n",
       "      <td>102.2</td>\n",
       "      <td>170</td>\n",
       "      <td>35.4</td>\n",
       "      <td>NaN</td>\n",
       "      <td>Mild</td>\n",
       "      <td>Active</td>\n",
       "      <td>2879</td>\n",
       "      <td>175.8</td>\n",
       "      <td>166</td>\n",
       "      <td>95.1</td>\n",
       "      <td>NaN</td>\n",
       "      <td>Gluten</td>\n",
       "      <td>Chinese</td>\n",
       "      <td>9.2</td>\n",
       "      <td>56.9</td>\n",
       "      <td>1.6</td>\n",
       "      <td>Balanced</td>\n",
       "    </tr>\n",
       "    <tr>\n",
       "      <th>7</th>\n",
       "      <td>P0008</td>\n",
       "      <td>38</td>\n",
       "      <td>Male</td>\n",
       "      <td>53.8</td>\n",
       "      <td>191</td>\n",
       "      <td>14.7</td>\n",
       "      <td>Diabetes</td>\n",
       "      <td>Severe</td>\n",
       "      <td>Moderate</td>\n",
       "      <td>1777</td>\n",
       "      <td>196.4</td>\n",
       "      <td>122</td>\n",
       "      <td>85.1</td>\n",
       "      <td>Low_Sodium</td>\n",
       "      <td>Gluten</td>\n",
       "      <td>Italian</td>\n",
       "      <td>4.8</td>\n",
       "      <td>65.0</td>\n",
       "      <td>2.0</td>\n",
       "      <td>Low_Carb</td>\n",
       "    </tr>\n",
       "    <tr>\n",
       "      <th>8</th>\n",
       "      <td>P0009</td>\n",
       "      <td>56</td>\n",
       "      <td>Male</td>\n",
       "      <td>81.9</td>\n",
       "      <td>175</td>\n",
       "      <td>26.7</td>\n",
       "      <td>Obesity</td>\n",
       "      <td>Severe</td>\n",
       "      <td>Active</td>\n",
       "      <td>2541</td>\n",
       "      <td>163.3</td>\n",
       "      <td>132</td>\n",
       "      <td>150.1</td>\n",
       "      <td>NaN</td>\n",
       "      <td>NaN</td>\n",
       "      <td>Indian</td>\n",
       "      <td>6.2</td>\n",
       "      <td>64.1</td>\n",
       "      <td>3.7</td>\n",
       "      <td>Balanced</td>\n",
       "    </tr>\n",
       "    <tr>\n",
       "      <th>9</th>\n",
       "      <td>P0010</td>\n",
       "      <td>75</td>\n",
       "      <td>Male</td>\n",
       "      <td>86.6</td>\n",
       "      <td>193</td>\n",
       "      <td>23.2</td>\n",
       "      <td>Hypertension</td>\n",
       "      <td>Moderate</td>\n",
       "      <td>Active</td>\n",
       "      <td>2023</td>\n",
       "      <td>242.8</td>\n",
       "      <td>148</td>\n",
       "      <td>127.7</td>\n",
       "      <td>Low_Sodium</td>\n",
       "      <td>NaN</td>\n",
       "      <td>Indian</td>\n",
       "      <td>8.3</td>\n",
       "      <td>80.2</td>\n",
       "      <td>3.0</td>\n",
       "      <td>Low_Sodium</td>\n",
       "    </tr>\n",
       "  </tbody>\n",
       "</table>\n",
       "</div>"
      ],
      "text/plain": [
       "  Patient_ID  Age  Gender  Weight_kg  Height_cm   BMI  Disease_Type  Severity  \\\n",
       "0      P0001   56    Male       58.4        160  22.8       Obesity  Moderate   \n",
       "1      P0002   69    Male      101.2        169  35.4      Diabetes      Mild   \n",
       "2      P0003   46  Female       63.5        173  21.2  Hypertension      Mild   \n",
       "3      P0004   32    Male       58.1        164  21.6           NaN      Mild   \n",
       "4      P0005   60    Male       79.5        197  20.5      Diabetes  Moderate   \n",
       "5      P0006   25  Female      105.7        156  43.4       Obesity    Severe   \n",
       "6      P0007   78    Male      102.2        170  35.4           NaN      Mild   \n",
       "7      P0008   38    Male       53.8        191  14.7      Diabetes    Severe   \n",
       "8      P0009   56    Male       81.9        175  26.7       Obesity    Severe   \n",
       "9      P0010   75    Male       86.6        193  23.2  Hypertension  Moderate   \n",
       "\n",
       "  Physical_Activity_Level  Daily_Caloric_Intake  Cholesterol_mg/dL  \\\n",
       "0                Moderate                  3079              173.3   \n",
       "1                Moderate                  3032              199.2   \n",
       "2               Sedentary                  1737              181.0   \n",
       "3                Moderate                  2657              168.2   \n",
       "4               Sedentary                  3496              200.4   \n",
       "5                  Active                  2715              182.3   \n",
       "6                  Active                  2879              175.8   \n",
       "7                Moderate                  1777              196.4   \n",
       "8                  Active                  2541              163.3   \n",
       "9                  Active                  2023              242.8   \n",
       "\n",
       "   Blood_Pressure_mmHg  Glucose_mg/dL Dietary_Restrictions Allergies  \\\n",
       "0                  133          116.3                  NaN   Peanuts   \n",
       "1                  120          137.1                  NaN   Peanuts   \n",
       "2                  121          109.6                  NaN   Peanuts   \n",
       "3                  144          159.4                  NaN       NaN   \n",
       "4                  172          182.3            Low_Sugar       NaN   \n",
       "5                  177          108.9                  NaN    Gluten   \n",
       "6                  166           95.1                  NaN    Gluten   \n",
       "7                  122           85.1           Low_Sodium    Gluten   \n",
       "8                  132          150.1                  NaN       NaN   \n",
       "9                  148          127.7           Low_Sodium       NaN   \n",
       "\n",
       "  Preferred_Cuisine  Weekly_Exercise_Hours  Adherence_to_Diet_Plan  \\\n",
       "0           Mexican                    3.1                    96.6   \n",
       "1           Chinese                    4.5                    63.2   \n",
       "2           Chinese                    3.8                    57.5   \n",
       "3           Mexican                    4.3                    54.5   \n",
       "4           Italian                    9.8                    78.2   \n",
       "5            Indian                    0.9                    55.7   \n",
       "6           Chinese                    9.2                    56.9   \n",
       "7           Italian                    4.8                    65.0   \n",
       "8            Indian                    6.2                    64.1   \n",
       "9            Indian                    8.3                    80.2   \n",
       "\n",
       "   Dietary_Nutrient_Imbalance_Score Diet_Recommendation  \n",
       "0                               3.1            Balanced  \n",
       "1                               0.6            Low_Carb  \n",
       "2                               4.6          Low_Sodium  \n",
       "3                               0.4            Balanced  \n",
       "4                               4.7            Low_Carb  \n",
       "5                               3.5            Balanced  \n",
       "6                               1.6            Balanced  \n",
       "7                               2.0            Low_Carb  \n",
       "8                               3.7            Balanced  \n",
       "9                               3.0          Low_Sodium  "
      ]
     },
     "metadata": {},
     "output_type": "display_data"
    }
   ],
   "source": [
    "display(dataset.head(10)) #to provide sample of the dataset (first 10 record)"
   ]
  },
  {
   "cell_type": "markdown",
   "id": "8cc5c4c0-340e-469b-980e-779ede1efa42",
   "metadata": {},
   "source": [
    "## Summary statistics for numerical columns"
   ]
  },
  {
   "cell_type": "code",
   "execution_count": 7,
   "id": "48d13b7d-27d7-448f-8cd4-4732a12122dd",
   "metadata": {},
   "outputs": [
    {
     "name": "stdout",
     "output_type": "stream",
     "text": [
      "\n",
      "Summary Statistics for Numerical Data:\n",
      "               Age    Weight_kg   Height_cm          BMI  \\\n",
      "count  1000.000000  1000.000000  1000.00000  1000.000000   \n",
      "mean     49.857000    84.602400   174.81700    28.191600   \n",
      "std      18.114267    20.088121    14.33377     8.040136   \n",
      "min      18.000000    50.000000   150.00000    13.000000   \n",
      "25%      35.000000    66.600000   162.00000    22.075000   \n",
      "50%      50.000000    85.200000   175.00000    27.450000   \n",
      "75%      66.000000   102.000000   187.00000    33.425000   \n",
      "max      79.000000   119.700000   199.00000    52.400000   \n",
      "\n",
      "       Daily_Caloric_Intake  Cholesterol_mg/dL  Blood_Pressure_mmHg  \\\n",
      "count           1000.000000        1000.000000          1000.000000   \n",
      "mean            2475.064000         199.717900           144.993000   \n",
      "std              565.017032          29.080614            20.245712   \n",
      "min             1500.000000         150.400000           110.000000   \n",
      "25%             1984.750000         174.300000           128.000000   \n",
      "50%             2470.500000         199.850000           145.000000   \n",
      "75%             2937.250000         224.850000           163.000000   \n",
      "max             3498.000000         249.900000           179.000000   \n",
      "\n",
      "       Glucose_mg/dL  Weekly_Exercise_Hours  Adherence_to_Diet_Plan  \\\n",
      "count    1000.000000            1000.000000              1000.00000   \n",
      "mean      136.867600               5.166000                74.88430   \n",
      "std        37.934819               2.847995                14.82638   \n",
      "min        70.200000               0.000000                50.00000   \n",
      "25%       105.000000               2.800000                62.00000   \n",
      "50%       138.000000               5.200000                74.20000   \n",
      "75%       170.650000               7.600000                88.20000   \n",
      "max       200.000000              10.000000               100.00000   \n",
      "\n",
      "       Dietary_Nutrient_Imbalance_Score  \n",
      "count                       1000.000000  \n",
      "mean                           2.469200  \n",
      "std                            1.459631  \n",
      "min                            0.000000  \n",
      "25%                            1.200000  \n",
      "50%                            2.400000  \n",
      "75%                            3.700000  \n",
      "max                            5.000000  \n"
     ]
    }
   ],
   "source": [
    "# Display summary statistics for numerical columns\n",
    "print(\"\\nSummary Statistics for Numerical Data:\")\n",
    "print(dataset.describe())"
   ]
  },
  {
   "cell_type": "markdown",
   "id": "3c888b3d-36d9-40ac-8138-4ca548a53ced",
   "metadata": {},
   "source": [
    "## Gender distribution:"
   ]
  },
  {
   "cell_type": "code",
   "execution_count": 11,
   "id": "ed2f2b9e-88e4-4342-a69b-3055cf5da14f",
   "metadata": {},
   "outputs": [
    {
     "data": {
      "image/png": "[encoded data removed]",
      "text/plain": [
       "<Figure size 600x400 with 1 Axes>"
      ]
     },
     "metadata": {},
     "output_type": "display_data"
    }
   ],
   "source": [
    "gender_counts = dataset['Gender'].value_counts()\n",
    "plt.figure(figsize=(6, 4))\n",
    "plt.bar(gender_counts.index, gender_counts.values)\n",
    "plt.xlabel('Gender')\n",
    "plt.ylabel('Count')\n",
    "plt.title('Gender Distribution')\n",
    "plt.show()"
   ]
  },
  {
   "cell_type": "markdown",
   "id": "0665dbf8-ebc6-44a6-ba36-f722b1aeb208",
   "metadata": {},
   "source": [
    "## Disease types Distribution"
   ]
  },
  {
   "cell_type": "code",
   "execution_count": 12,
   "id": "89bb1503-7cae-4051-ba88-d1be85e33670",
   "metadata": {},
   "outputs": [
    {
     "data": {
      "image/png": "[encoded data removed]",
      "text/plain": [
       "<Figure size 600x400 with 1 Axes>"
      ]
     },
     "metadata": {},
     "output_type": "display_data"
    }
   ],
   "source": [
    "Disease_counts = dataset['Disease_Type'].value_counts(dropna=False)\n",
    "Disease_counts.index = Disease_counts.index.fillna('None')\n",
    "plt.figure(figsize=(6, 4))\n",
    "plt.bar(Disease_counts.index, Disease_counts.values)\n",
    "plt.xlabel('Disease Type')\n",
    "plt.ylabel('count')\n",
    "plt.title('Distribution of Disease types')\n",
    "plt.show()"
   ]
  },
  {
   "cell_type": "markdown",
   "id": "2b0b0a22-9b27-4b58-aaa2-221ff19685e9",
   "metadata": {},
   "source": [
    "## Age distribution"
   ]
  },
  {
   "cell_type": "code",
   "execution_count": 9,
   "id": "f81ee2c6-b688-418d-a236-341a4ac16955",
   "metadata": {},
   "outputs": [
    {
     "data": {
      "image/png": "[encoded data removed]",
      "text/plain": [
       "<Figure size 600x400 with 1 Axes>"
      ]
     },
     "metadata": {},
     "output_type": "display_data"
    }
   ],
   "source": [
    "plt.figure(figsize=(6, 4))\n",
    "plt.hist(dataset['Age'], bins=10 , edgecolor='black') \n",
    "plt.xlabel('Age')\n",
    "plt.ylabel('Count')\n",
    "plt.title('Age Distribution')\n",
    "plt.show()"
   ]
  },
  {
   "cell_type": "markdown",
   "id": "e73c089e-903b-48e5-81d0-6aaafe070eab",
   "metadata": {},
   "source": [
    "## BMI Distribution "
   ]
  },
  {
   "cell_type": "code",
   "execution_count": 10,
   "id": "759f1db2-92d3-40f4-abfc-30ff07a67488",
   "metadata": {},
   "outputs": [
    {
     "data": {
      "image/png": "[encoded data removed]",
      "text/plain": [
       "<Figure size 600x400 with 1 Axes>"
      ]
     },
     "metadata": {},
     "output_type": "display_data"
    }
   ],
   "source": [
    "plt.figure(figsize=(6, 4))\n",
    "plt.hist(dataset['BMI'], bins=10,  edgecolor='black') \n",
    "plt.xlabel('BMI')\n",
    "plt.ylabel('Count')\n",
    "plt.title('BMI Distribution')\n",
    "plt.show()"
   ]
  },
  {
   "cell_type": "markdown",
   "id": "37eba0d2-7f6b-4c46-b386-668a4c3ae0c5",
   "metadata": {},
   "source": [
    "## Physical Activity Level Distribution"
   ]
  },
  {
   "cell_type": "code",
   "execution_count": 11,
   "id": "c69526a9-68ba-4086-b65d-a14da3c18cb5",
   "metadata": {},
   "outputs": [
    {
     "data": {
      "image/png": "[encoded data removed]",
      "text/plain": [
       "<Figure size 600x400 with 1 Axes>"
      ]
     },
     "metadata": {},
     "output_type": "display_data"
    }
   ],
   "source": [
    "activity_counts = dataset['Physical_Activity_Level'].value_counts()\n",
    "plt.figure(figsize=(6, 4))\n",
    "plt.bar(activity_counts.index, activity_counts.values)\n",
    "plt.xticks(ticks=range(len(activity_counts.index)), labels=activity_counts.index, rotation=45)\n",
    "plt.xlabel('Physical Activity Level')\n",
    "plt.ylabel('Count')\n",
    "plt.title('Physical Activity Level Distribution')\n",
    "plt.show()"
   ]
  },
  {
   "cell_type": "markdown",
   "id": "67672757-68de-4774-9ab7-622d7043fccc",
   "metadata": {},
   "source": [
    "## Diet Recommendation Distribution"
   ]
  },
  {
   "cell_type": "code",
   "execution_count": 12,
   "id": "37cd775a-07c9-47c2-a7de-ea45e92ba992",
   "metadata": {},
   "outputs": [
    {
     "data": {
      "image/png": "[encoded data removed]",
      "text/plain": [
       "<Figure size 600x400 with 1 Axes>"
      ]
     },
     "metadata": {},
     "output_type": "display_data"
    }
   ],
   "source": [
    "diet_counts = dataset['Diet_Recommendation'].value_counts()\n",
    "plt.figure(figsize=(6, 4))\n",
    "plt.bar(diet_counts.index, diet_counts.values)\n",
    "plt.xticks(ticks=range(len(diet_counts.index)), labels=diet_counts.index, rotation=45)\n",
    "plt.xlabel('Diet Recommendation')\n",
    "plt.ylabel('Count')\n",
    "plt.title('Diet Recommendation Distribution')\n",
    "plt.show()"
   ]
  },
  {
   "cell_type": "markdown",
   "id": "dbc1af63-2067-4982-be50-671896735d61",
   "metadata": {},
   "source": [
    "# **Preprocessing techniques:**"
   ]
  },
  {
   "cell_type": "markdown",
   "id": "6517b2c4-8d46-4051-a7b5-f8532fc4a85a",
   "metadata": {},
   "source": [
    "# **Binning:** \n",
    "Binning is the process of converting continuous numerical values into discrete categories (ranges). \n",
    "\n",
    "Binning simplifies data by grouping similar values together, reducing the complexity of continuous variables like age, BMI, and daily caloric intake. This helps in minimizing noise by generalizing values into broader categories, making patterns more apparent. Additionally, it enhances interpretability, as many machine learning models and analytical approaches perform better with categorical data rather than raw numerical values."
   ]
  },
  {
   "cell_type": "markdown",
   "id": "bc843b51-0060-49f6-aa77-a86e06b71f0a",
   "metadata": {},
   "source": [
    "## Binning Age"
   ]
  },
  {
   "cell_type": "code",
   "execution_count": 14,
   "id": "1bf31abf-b393-4298-8ac2-f4559174e66e",
   "metadata": {},
   "outputs": [],
   "source": [
    "bins = list(range(10, 81, 10))  \n",
    "labels = [f\"{i}-{i+10}\" for i in bins[:-1]]  # Labels like \"10-20\", \"20-30\"\n",
    "\n",
    "dataset['Age_Range'] = pd.cut(dataset['Age'], bins=bins, labels=labels, right=False)"
   ]
  },
  {
   "cell_type": "markdown",
   "id": "4db8c70f-7434-4c67-ab83-aa14ea891f77",
   "metadata": {},
   "source": [
    "## Binning BMI"
   ]
  },
  {
   "cell_type": "code",
   "execution_count": 15,
   "id": "b9a85b6e-0482-4b78-934d-3bbb12878684",
   "metadata": {},
   "outputs": [],
   "source": [
    "bmi_bins = list(range(0, 71, 10))  # [0,10,20,...,70]\n",
    "bmi_labels = [f\"{i}-{i+10}\" for i in range(0, 70, 10)]  # Adjust labels count\n",
    "dataset[\"BMI_Range\"] = pd.cut(dataset[\"BMI\"], bins=bmi_bins, labels=bmi_labels, right=False)"
   ]
  },
  {
   "cell_type": "markdown",
   "id": "64ffd8b2-e7b4-4078-929d-31d87edc7e5a",
   "metadata": {},
   "source": [
    "## Binning Daily Caloric Intake"
   ]
  },
  {
   "cell_type": "code",
   "execution_count": 16,
   "id": "c80545f7-0e93-4f3d-a94a-e0298dca00f1",
   "metadata": {},
   "outputs": [],
   "source": [
    "calorie_bins = list(range(0, 6001, 1000))  # [0,1000,2000,...,6000]\n",
    "calorie_labels = [f\"{i}-{i+1000}\" for i in range(0, 6000, 1000)]\n",
    "dataset[\"Calorie_Range\"] = pd.cut(dataset[\"Daily_Caloric_Intake\"], bins=calorie_bins, labels=calorie_labels, right=False)"
   ]
  },
  {
   "cell_type": "markdown",
   "id": "7d35afd4-8b05-48c2-bc04-754fae83d437",
   "metadata": {},
   "source": [
    "# Drop some culomns\n",
    "\n",
    "In the provided code, specific columns are dropped to streamline the dataset by removing irrelevant, redundant, or noisy features that could hinder model performance. The **Patient_ID** column is dropped as it is an identifier and does not contribute meaningful information. The **Age** column is removed after applying binning to group ages into meaningful categories. **Weight_kg and Height_cm** are excluded since they are used to calculate **BMI**, and only the binned BMI values are retained to simplify the inputs. The remaining columns, such as **Daily_Caloric_Intake, Cholesterol_mg/dL, Blood_Pressure_mmHg, Glucose_mg/dL, Dietary_Restrictions, Allergies, Preferred_Cuisine, Weekly_Exercise_Hours, Adherence_to_Diet_Plan, Dietary_Nutrient_Imbalance_Score**, were determined to either add noise or lack direct relevance to the dataset’s objectives. This process ensures the dataset remains focused and efficient for analysis."
   ]
  },
  {
   "cell_type": "code",
   "execution_count": 16,
   "id": "5c1f8d61-70a5-42e5-9df7-a24df237a9b9",
   "metadata": {},
   "outputs": [],
   "source": [
    "dataset = dataset.drop(columns=[\"Patient_ID\", \"Age\", \"Weight_kg\", \"Height_cm\", \"BMI\", \"Severity\", \"Daily_Caloric_Intake\", \"Cholesterol_mg/dL\", \"Blood_Pressure_mmHg\", \"Glucose_mg/dL\", \"Dietary_Restrictions\", \"Allergies\", \"Preferred_Cuisine\", \"Weekly_Exercise_Hours\", \"Adherence_to_Diet_Plan\", \"Dietary_Nutrient_Imbalance_Score\"])"
   ]
  },
  {
   "cell_type": "markdown",
   "id": "6e0f7411-9547-4164-b145-b86762c2c4f7",
   "metadata": {},
   "source": [
    "# Encode categorical\n",
    "\n",
    "Encoding categorical data refers to the process of converting categorical variables into numerical formats so they can be used in machine learning models, which typically require numerical inputs. This transformation is crucial for improving model interpretability, ensuring compatibility with mathematical operations, and enhancing computational efficiency. Effective encoding methods help prevent misleading relationships, reduce dimensionality when necessary, and optimize feature representation for better predictive performance. Selecting the right encoding technique depends on the nature of the categorical data and the type of machine learning model being used.\n",
    "## Label Encoding\n",
    "Label encoding is a simple and efficient method for converting categorical variables into numerical values by assigning a unique integer to each category. It was applied to several columns in our dataset: \n",
    "**Gender was encoded as** \n",
    "0 for female and \n",
    "1 for male, \n",
    "**Disease Type as** \n",
    "0 for Diabetes,\n",
    "1 for Hypertension, \n",
    "2 for Obesity, \n",
    "and 3 for none, \n",
    "**Activity Level as** \n",
    "0 for Active\n",
    "1 for Moderate, \n",
    "and 2 for Sedentary, \n",
    "**Diet Recommendation as** \n",
    "0 for Balanced, \n",
    "1 for Low Carb, \n",
    "and 2 for Low Sodium. \n",
    "This approach is particularly useful as it is easy to implement, memory-efficient, and preserves relationships between categories when applicable, ensuring the categorical data is compatible with machine learning models."
   ]
  },
  {
   "cell_type": "code",
   "execution_count": 17,
   "id": "9418ae0d-a5b5-40aa-af78-f78c1877c6f2",
   "metadata": {},
   "outputs": [],
   "source": [
    "# Initialize LabelEncoder\n",
    "le = LabelEncoder()\n",
    "\n",
    "# Encoding categorical columns\n",
    "dataset['Gender'] = le.fit_transform(dataset['Gender'])\n",
    "dataset['Disease_Type'] = le.fit_transform(dataset['Disease_Type'])\n",
    "dataset['Physical_Activity_Level'] = le.fit_transform(dataset['Physical_Activity_Level'])\n",
    "dataset['Diet_Recommendation'] = le.fit_transform(dataset['Diet_Recommendation'])"
   ]
  },
  {
   "cell_type": "markdown",
   "id": "499ac904-fe7b-4c05-b44e-5e04c5ca2181",
   "metadata": {},
   "source": [
    "## Ordinal Encoding\n"
   ]
  },
  {
   "cell_type": "code",
   "execution_count": 17,
   "id": "b5660836-6bea-4439-8881-5fe6116efa6c",
   "metadata": {},
   "outputs": [],
   "source": [
    "ordinal_features = ['Age_Range', 'BMI_Range', 'Calorie_Range']\n",
    "ordinal_encoder = OrdinalEncoder()\n",
    "dataset[ordinal_features] = ordinal_encoder.fit_transform(dataset[ordinal_features]).astype(int)"
   ]
  },
  {
   "cell_type": "markdown",
   "id": "6d5c333d-59ad-4a6c-bb11-b59f47ddaa7a",
   "metadata": {},
   "source": [
    "### **Export**"
   ]
  },
  {
   "cell_type": "code",
   "execution_count": 18,
   "id": "5d493570-f4bf-47ca-a4f8-cc2bb2b53efd",
   "metadata": {},
   "outputs": [],
   "source": [
    "dataset.to_csv('dataset_preprocessed.csv', index=False)"
   ]
  },
  {
   "cell_type": "code",
   "execution_count": null,
   "id": "5c0ea959-622e-452b-80bd-f3fcea2a00b8",
   "metadata": {},
   "outputs": [],
   "source": []
  }
 ],
 "metadata": {
  "kernelspec": {
   "display_name": "Python 3 (ipykernel)",
   "language": "python",
   "name": "python3"
  },
  "language_info": {
   "codemirror_mode": {
    "name": "ipython",
    "version": 3
   },
   "file_extension": ".py",
   "mimetype": "text/x-python",
   "name": "python",
   "nbconvert_exporter": "python",
   "pygments_lexer": "ipython3",
   "version": "3.11.5"
  }
 },
 "nbformat": 4,
 "nbformat_minor": 5
}
