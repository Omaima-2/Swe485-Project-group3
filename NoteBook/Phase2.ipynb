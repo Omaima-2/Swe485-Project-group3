{
 "cells": [
  {
   "cell_type": "markdown",
   "metadata": {},
   "source": [
    "\n",
    "# Build a Supervised Learning Model (Phase2)\n",
    "\n"
   ]
  },
  {
   "cell_type": "code",
   "execution_count": null,
   "metadata": {},
   "outputs": [],
   "source": [
    "\n",
    "\n",
    "#  We choose SVM and Random Forest for our Diet Recommendation System because\n",
    "\n",
    "\n",
    "\n",
    "#  Support Vector Machine (SVM):\n",
    "# - SVM is ideal for diet recommendation because it performs well with structured data to predict a suitable diet.\n",
    "# - It effectively handles complex, non-linear relationships between the factors needed to determine the diet and the diet level.\n",
    "# - In our system, SVM achieved 97.50% accuracy, making it the best-performing model.\n",
    "\n",
    "#  Random Forest:\n",
    "# - Random Forest helps us understand which factors (e.g., BMI, calorie range) influence diet recommendations.\n",
    "# - It works well with missing or imbalanced data, making it robust for real-world applications.\n",
    "# - Since it builds multiple decision trees, it reduces overfitting and improves reliability.\n",
    "# - Our results show that Random Forest achieved 91.50% accuracy, proving to be a strong model.\n",
    "\n",
    "# Evaluation Metrics and Their Impact on Performance:\n",
    "# A. Accuracy:\n",
    "#    - Accuracy measures the proportion of correctly classified samples.\n",
    "#    - SVM (97.50%) outperformed Random Forest (91.50%).\n",
    "#    - This indicates that SVM correctly classifies more diet recommendations.\n",
    "#\n",
    "# B. Precision, Recall, and F1-Score:\n",
    "#    1. Precision:\n",
    "#       - Measures the proportion of correct positive predictions.\n",
    "#       - SVM has high precision across all classes (~1.00), meaning fewer false positives.\n",
    "#       - Random Forest has lower precision in class 2 (~0.94), indicating some misclassifications.\n",
    "#\n",
    "#    2. Recall:\n",
    "#       - Measures the ability to correctly identify all relevant instances.\n",
    "#       - SVM achieved 1.00 recall for classes 0 and 2, meaning no false negatives.\n",
    "#       - Random Forest had a lower recall (0.78 for class 2), meaning some instances were missed.\n",
    "#\n",
    "#    3. F1-Score:\n",
    "#       - The harmonic mean of precision and recall.\n",
    "#       - SVM has near-perfect F1-scores (~1.00), while Random Forest has lower values due to misclassifications.\n",
    "#\n",
    "# C. Confusion Matrix Insights:\n",
    "#    - The confusion matrix reveals that:\n",
    "#      - SVM has almost perfect classification with very few misclassified instances.\n",
    "#      - Random Forest misclassified 14 instances in class 2, indicating difficulty in handling some patterns.\n",
    "#\n",
    "\n",
    "# Conclusion:\n",
    "# - SVM provides higher accuracy, making it the preferred choice for diet prediction.\n",
    "# - Random Forest helps with feature importance, allowing us to see which health factors affect diet recommendations the most.\n",
    "# - SVM was chosen as the primary model due to its high accuracy (97.50%) in predicting diet plans."
   ]
  },
  {
   "cell_type": "code",
   "execution_count": 2,
   "metadata": {},
   "outputs": [
    {
     "name": "stdout",
     "output_type": "stream",
     "text": [
      "Requirement already satisfied: pandas in c:\\python311\\lib\\site-packages (2.2.3)\n",
      "Requirement already satisfied: scikit-learn in c:\\python311\\lib\\site-packages (1.6.1)\n",
      "Requirement already satisfied: ipywidgets in c:\\python311\\lib\\site-packages (8.1.5)\n",
      "Requirement already satisfied: numpy>=1.23.2 in c:\\python311\\lib\\site-packages (from pandas) (2.2.3)\n",
      "Requirement already satisfied: python-dateutil>=2.8.2 in c:\\users\\hp\\appdata\\roaming\\python\\python311\\site-packages (from pandas) (2.9.0.post0)\n",
      "Requirement already satisfied: pytz>=2020.1 in c:\\python311\\lib\\site-packages (from pandas) (2025.1)\n",
      "Requirement already satisfied: tzdata>=2022.7 in c:\\python311\\lib\\site-packages (from pandas) (2025.1)\n",
      "Requirement already satisfied: scipy>=1.6.0 in c:\\python311\\lib\\site-packages (from scikit-learn) (1.15.1)\n",
      "Requirement already satisfied: joblib>=1.2.0 in c:\\python311\\lib\\site-packages (from scikit-learn) (1.4.2)\n",
      "Requirement already satisfied: threadpoolctl>=3.1.0 in c:\\python311\\lib\\site-packages (from scikit-learn) (3.5.0)\n",
      "Requirement already satisfied: comm>=0.1.3 in c:\\users\\hp\\appdata\\roaming\\python\\python311\\site-packages (from ipywidgets) (0.2.2)\n",
      "Requirement already satisfied: ipython>=6.1.0 in c:\\users\\hp\\appdata\\roaming\\python\\python311\\site-packages (from ipywidgets) (8.32.0)\n",
      "Requirement already satisfied: traitlets>=4.3.1 in c:\\users\\hp\\appdata\\roaming\\python\\python311\\site-packages (from ipywidgets) (5.14.3)\n",
      "Requirement already satisfied: widgetsnbextension~=4.0.12 in c:\\python311\\lib\\site-packages (from ipywidgets) (4.0.13)\n",
      "Requirement already satisfied: jupyterlab-widgets~=3.0.12 in c:\\python311\\lib\\site-packages (from ipywidgets) (3.0.13)\n",
      "Requirement already satisfied: colorama in c:\\users\\hp\\appdata\\roaming\\python\\python311\\site-packages (from ipython>=6.1.0->ipywidgets) (0.4.6)\n",
      "Requirement already satisfied: decorator in c:\\users\\hp\\appdata\\roaming\\python\\python311\\site-packages (from ipython>=6.1.0->ipywidgets) (5.1.1)\n",
      "Requirement already satisfied: jedi>=0.16 in c:\\users\\hp\\appdata\\roaming\\python\\python311\\site-packages (from ipython>=6.1.0->ipywidgets) (0.19.2)\n",
      "Requirement already satisfied: matplotlib-inline in c:\\users\\hp\\appdata\\roaming\\python\\python311\\site-packages (from ipython>=6.1.0->ipywidgets) (0.1.7)\n",
      "Requirement already satisfied: prompt_toolkit<3.1.0,>=3.0.41 in c:\\users\\hp\\appdata\\roaming\\python\\python311\\site-packages (from ipython>=6.1.0->ipywidgets) (3.0.50)\n",
      "Requirement already satisfied: pygments>=2.4.0 in c:\\users\\hp\\appdata\\roaming\\python\\python311\\site-packages (from ipython>=6.1.0->ipywidgets) (2.19.1)\n",
      "Requirement already satisfied: stack_data in c:\\users\\hp\\appdata\\roaming\\python\\python311\\site-packages (from ipython>=6.1.0->ipywidgets) (0.6.3)\n",
      "Requirement already satisfied: typing_extensions>=4.6 in c:\\users\\hp\\appdata\\roaming\\python\\python311\\site-packages (from ipython>=6.1.0->ipywidgets) (4.12.2)\n",
      "Requirement already satisfied: six>=1.5 in c:\\users\\hp\\appdata\\roaming\\python\\python311\\site-packages (from python-dateutil>=2.8.2->pandas) (1.17.0)\n",
      "Requirement already satisfied: parso<0.9.0,>=0.8.4 in c:\\users\\hp\\appdata\\roaming\\python\\python311\\site-packages (from jedi>=0.16->ipython>=6.1.0->ipywidgets) (0.8.4)\n",
      "Requirement already satisfied: wcwidth in c:\\users\\hp\\appdata\\roaming\\python\\python311\\site-packages (from prompt_toolkit<3.1.0,>=3.0.41->ipython>=6.1.0->ipywidgets) (0.2.13)\n",
      "Requirement already satisfied: executing>=1.2.0 in c:\\users\\hp\\appdata\\roaming\\python\\python311\\site-packages (from stack_data->ipython>=6.1.0->ipywidgets) (2.2.0)\n",
      "Requirement already satisfied: asttokens>=2.1.0 in c:\\users\\hp\\appdata\\roaming\\python\\python311\\site-packages (from stack_data->ipython>=6.1.0->ipywidgets) (3.0.0)\n",
      "Requirement already satisfied: pure-eval in c:\\users\\hp\\appdata\\roaming\\python\\python311\\site-packages (from stack_data->ipython>=6.1.0->ipywidgets) (0.2.3)\n",
      "Note: you may need to restart the kernel to use updated packages.\n"
     ]
    },
    {
     "name": "stderr",
     "output_type": "stream",
     "text": [
      "\n",
      "[notice] A new release of pip is available: 23.2.1 -> 25.0.1\n",
      "[notice] To update, run: python.exe -m pip install --upgrade pip\n"
     ]
    }
   ],
   "source": [
    "%pip install pandas scikit-learn ipywidgets"
   ]
  },
  {
   "cell_type": "code",
   "execution_count": 12,
   "metadata": {},
   "outputs": [],
   "source": [
    "# Import necessary libraries\n",
    "import pandas as pd\n",
    "import ipywidgets as widgets\n",
    "from IPython.display import display, HTML\n",
    "import seaborn as sns\n",
    "import numpy as np\n",
    "from sklearn.model_selection import train_test_split  # Splits data into training and testing sets for model evaluation\n",
    "from sklearn.ensemble import RandomForestClassifier  # Implements the Random Forest algorithm for classification tasks\n",
    "from sklearn.svm import SVC # Implements Support Vector Classification (SVM), a powerful machine learning algorithm\n",
    "from sklearn.preprocessing import StandardScaler\n",
    "import matplotlib.pyplot as plt # Provides plotting functionality for data visualization \n",
    "from sklearn.metrics import accuracy_score, classification_report, confusion_matrix \n",
    "# Import evaluation metrics:\n",
    "# - accuracy_score: Measures the percentage of correctly classified samples.\n",
    "# - classification_report: Provides precision, recall, F1-score, and support for each class.\n",
    "# - confusion_matrix: Displays the number of correct and incorrect predictions for each class.\n"
   ]
  },
  {
   "cell_type": "code",
   "execution_count": 13,
   "metadata": {},
   "outputs": [],
   "source": [
    "# Load the preproccessting dataset\n",
    "csv_path = \"dataset_preprocessed (3).csv\"  \n",
    "df = pd.read_csv(csv_path)\n",
    "\n",
    "# Define feature columns and target column\n",
    "feature_cols = ['Gender', 'Disease_Type', 'Physical_Activity_Level', 'Age_Range', 'BMI_Range', 'Calorie_Range']\n",
    "target_col = 'Diet_Recommendation'\n",
    "\n",
    "# Select features and target\n",
    "X = df[feature_cols]  \n",
    "y = df[target_col]  \n",
    "\n",
    "\n",
    "# Split the dataset into training (80%) and testing (20%) sets.\n",
    "X_train, X_test, y_train, y_test = train_test_split(\n",
    "    X, y, test_size=0.2,random_state=1, stratify=y\n",
    ")\n",
    "\n"
   ]
  },
  {
   "cell_type": "code",
   "execution_count": 14,
   "metadata": {},
   "outputs": [
    {
     "name": "stdout",
     "output_type": "stream",
     "text": [
      "\n",
      "🔹 Random Forest Model Performance:\n",
      "              precision    recall  f1-score   support\n",
      "\n",
      "           0       1.00      1.00      1.00        85\n",
      "           1       0.78      0.94      0.85        52\n",
      "           2       0.94      0.78      0.85        63\n",
      "\n",
      "    accuracy                           0.92       200\n",
      "   macro avg       0.91      0.91      0.90       200\n",
      "weighted avg       0.92      0.92      0.91       200\n",
      "\n",
      "Accuracy: 0.9150\n"
     ]
    },
    {
     "data": {
      "image/png": "[encoded data removed]",
      "text/plain": [
       "<Figure size 600x400 with 2 Axes>"
      ]
     },
     "metadata": {},
     "output_type": "display_data"
    },
    {
     "name": "stdout",
     "output_type": "stream",
     "text": [
      "\n",
      "🔹 SVM Model Performance (Without Scaling):\n",
      "              precision    recall  f1-score   support\n",
      "\n",
      "           0       1.00      1.00      1.00        85\n",
      "           1       1.00      0.90      0.95        52\n",
      "           2       0.93      1.00      0.96        63\n",
      "\n",
      "    accuracy                           0.97       200\n",
      "   macro avg       0.98      0.97      0.97       200\n",
      "weighted avg       0.98      0.97      0.97       200\n",
      "\n",
      "Accuracy: 0.9750\n"
     ]
    },
    {
     "data": {
      "image/png": "[encoded data removed]",
      "text/plain": [
       "<Figure size 600x400 with 2 Axes>"
      ]
     },
     "metadata": {},
     "output_type": "display_data"
    },
    {
     "name": "stdout",
     "output_type": "stream",
     "text": [
      "\n",
      "🔹 Model Comparison:\n",
      "Random Forest Accuracy: 91.50%\n",
      "SVM Accuracy: 97.50%\n"
     ]
    }
   ],
   "source": [
    "  # 1.1-Apply Random Forest for Diet Recommendation\n",
    "\n",
    "# Initialize the Random Forest Classifier\n",
    "rf_classifier = RandomForestClassifier(\n",
    "    n_estimators=2,  # Number of trees in the forest (increasing this can improve learning)\n",
    "    max_depth=10,  # Limits the depth of each tree to prevent overfitting\n",
    "    max_leaf_nodes=10,  # Restricts the maximum number of leaf nodes for simplicity\n",
    "    min_samples_split=6,  # Minimum samples required to split a node (higher values reduce overfitting)\n",
    "    random_state=42  # Ensures reproducibility of results\n",
    ")\n",
    "\n",
    "\n",
    "# Train the Random Forest model on the training dataset\n",
    "rf_classifier.fit(X_train, y_train)\n",
    "\n",
    "# Make predictions on the test dataset\n",
    "y_pred_rf = rf_classifier.predict(X_test)\n",
    "\n",
    "#1.2-Evaluate Random Forest Model Performance\n",
    "print(\"\\n🔹 Random Forest Model Performance:\")\n",
    "print(classification_report(y_test, y_pred_rf))  #classification_report: Provides precision, recall, F1-score, and support for each class.\n",
    "print(f\"Accuracy: {accuracy_score(y_test, y_pred_rf):.4f}\")  # # accuracy_score: Measures the percentage of correctly classified samples.\n",
    "\n",
    "# 1.3-Generate Confusion Matrix for SVM(confusion_matrix: Displays the number of correct and incorrect predictions for each class.)\n",
    "plt.figure(figsize=(6,4))\n",
    "sns.heatmap(confusion_matrix(y_test, y_pred_rf), annot=True, fmt=\"d\", cmap=\"Reds\", xticklabels=True, yticklabels=True)\n",
    "plt.title(\"Confusion Matrix -Random Forest \")\n",
    "plt.xlabel(\"Predicted Label\")\n",
    "plt.ylabel(\"True Label\")\n",
    "plt.show()\n",
    "\n",
    "\n",
    "##################################################################################\n",
    "\n",
    " #2.1-Apply Support Vector Machine( SVM )for Diet Recommendation\n",
    "\n",
    "\n",
    "# Initialize the SVM Classifier\n",
    "\n",
    "svm_model = SVC(\n",
    "    kernel='rbf',  # RBF kernel\n",
    "    C=0.07,  # Slightly increased C for better classification\n",
    "    gamma=\"auto\",  # Adjust gamma for a more flexible decision boundary\n",
    "    random_state=42\n",
    ")\n",
    "\n",
    "# Train SVM \n",
    "svm_model.fit(X_train, y_train)  # Train on raw (unscaled) data\n",
    "y_pred_svm = svm_model.predict(X_test)  # Predict on raw (unscaled) test data\n",
    "\n",
    "\n",
    "# 2.2-Evaluate SVM Model Performance\n",
    "print(\"\\n🔹 SVM Model Performance (Without Scaling):\")\n",
    "print(classification_report(y_test, y_pred_svm)) # classification_report: Provides precision, recall, F1-score, and support for each class.\n",
    "print(f\"Accuracy: {accuracy_score(y_test, y_pred_svm):.4f}\") # accuracy_score: Measures the percentage of correctly classified samples.\n",
    "\n",
    "\n",
    "# 2.3-Generate Confusion Matrix for SVM ( confusion_matrix: Displays the number of correct and incorrect predictions for each class.)\n",
    "plt.figure(figsize=(6,4))\n",
    "sns.heatmap(confusion_matrix(y_test, y_pred_svm), annot=True, fmt=\"d\", cmap=\"Reds\", xticklabels=True, yticklabels=True)\n",
    "plt.title(\"Confusion Matrix - SVM\")\n",
    "plt.xlabel(\"Predicted Label\")\n",
    "plt.ylabel(\"True Label\")\n",
    "plt.show()\n",
    "\n",
    "\n",
    "\n",
    "# 3-Compare Both Models\n",
    "\n",
    "\n",
    "rf_accuracy = accuracy_score(y_test, y_pred_rf)\n",
    "svm_accuracy = accuracy_score(y_test, y_pred_svm)\n",
    "\n",
    "print(\"\\n🔹 Model Comparison:\")\n",
    "print(f\"Random Forest Accuracy: {rf_accuracy * 100:.2f}%\")\n",
    "print(f\"SVM Accuracy: {svm_accuracy * 100:.2f}%\")"
   ]
  }
 ],
 "metadata": {
  "kernelspec": {
   "display_name": "Python 3",
   "language": "python",
   "name": "python3"
  },
  "language_info": {
   "codemirror_mode": {
    "name": "ipython",
    "version": 3
   },
   "file_extension": ".py",
   "mimetype": "text/x-python",
   "name": "python",
   "nbconvert_exporter": "python",
   "pygments_lexer": "ipython3",
   "version": "3.11.5"
  }
 },
 "nbformat": 4,
 "nbformat_minor": 2
}
